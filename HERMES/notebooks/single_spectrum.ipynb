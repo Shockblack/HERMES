{
 "cells": [
  {
   "cell_type": "code",
   "execution_count": null,
   "metadata": {},
   "outputs": [
    {
     "name": "stdout",
     "output_type": "stream",
     "text": [
      "Reading in cross sections in opacity sampling mode...\n",
      "CO2-CO2 done\n",
      "CO2-CH4 done\n",
      "N2-N2 done\n",
      "N2-H2O done\n",
      "O2-O2 done\n",
      "O2-CO2 done\n",
      "O2-N2 done\n",
      "O2 done\n",
      "CO2 done\n",
      "CH4 done\n",
      "H2O done\n",
      "O3 done\n",
      "N2O done\n",
      "Opacity pre-interpolation complete.\n"
     ]
    }
   ],
   "source": [
    "from POSEIDON.core import create_planet, create_star, define_model, \\\n",
    "    make_atmosphere, read_opacities, wl_grid_constant_R, compute_spectrum\n",
    "\n",
    "from POSEIDON.constants import R_E, M_E, R_Sun\n",
    "import astropy.units as u\n",
    "import astropy.constants as c\n",
    "import numpy as np\n",
    "\n",
    "model_name = 'training_set'\n",
    "\n",
    "bulk_species = ['N2']\n",
    "param_species = ['O2', 'CO2', 'CH4', 'H2O', 'O3', 'N2O']\n",
    "\n",
    "model = define_model(model_name, bulk_species, param_species,\n",
    "                     PT_profile = 'isotherm', cloud_model = 'cloud-free')\n",
    "\n",
    "#***** Wavelength grid *****#\n",
    "\n",
    "wl_min = 0.4      # Minimum wavelength (um)\n",
    "wl_max = 10.      # Maximum wavelength (um)\n",
    "R = 10000         # Spectral resolution of grid\n",
    "\n",
    "wl = wl_grid_constant_R(wl_min, wl_max, R)\n",
    "\n",
    "#***** Read opacity data *****#\n",
    "\n",
    "opacity_treatment = 'opacity_sampling'\n",
    "\n",
    "# First, specify limits of the fine temperature and pressure grids for the\n",
    "# pre-interpolation of cross sections. These fine grids should cover a\n",
    "# wide range of possible temperatures and pressures for the model atmosphere.\n",
    "\n",
    "# Define fine temperature grid (K)\n",
    "T_fine_min = 20     # 400 K lower limit suffices for a typical hot Jupiter\n",
    "T_fine_max = 2000    # 2000 K upper limit suffices for a typical hot Jupiter\n",
    "T_fine_step = 10     # 10 K steps are a good tradeoff between accuracy and RAM\n",
    "\n",
    "T_fine = np.arange(T_fine_min, (T_fine_max + T_fine_step), T_fine_step)\n",
    "\n",
    "# Define fine pressure grid (log10(P/bar))\n",
    "log_P_fine_min = -6.0   # 1 ubar is the lowest pressure in the opacity database\n",
    "log_P_fine_max = 2.0    # 100 bar is the highest pressure in the opacity database\n",
    "log_P_fine_step = 0.2   # 0.2 dex steps are a good tradeoff between accuracy and RAM\n",
    "\n",
    "log_P_fine = np.arange(log_P_fine_min, (log_P_fine_max + log_P_fine_step),\n",
    "                       log_P_fine_step)\n",
    "\n",
    "# Now we can pre-interpolate the sampled opacities (may take up to a minute)\n",
    "opac = read_opacities(model, wl, opacity_treatment, T_fine, log_P_fine)"
   ]
  },
  {
   "cell_type": "markdown",
   "metadata": {},
   "source": [
    "Opacity uses about 13 GB mem"
   ]
  },
  {
   "cell_type": "code",
   "execution_count": null,
   "metadata": {},
   "outputs": [
    {
     "ename": "NameError",
     "evalue": "name 'np' is not defined",
     "output_type": "error",
     "traceback": [
      "\u001b[0;31m---------------------------------------------------------------------------\u001b[0m",
      "\u001b[0;31mNameError\u001b[0m                                 Traceback (most recent call last)",
      "Cell \u001b[0;32mIn[1], line 3\u001b[0m\n\u001b[1;32m      1\u001b[0m \u001b[38;5;66;03m# Import the sampled parameters\u001b[39;00m\n\u001b[1;32m      2\u001b[0m data_formats \u001b[38;5;241m=\u001b[39m [\u001b[38;5;124m'\u001b[39m\u001b[38;5;132;01m%d\u001b[39;00m\u001b[38;5;124m'\u001b[39m] \u001b[38;5;241m+\u001b[39m [\u001b[38;5;124m'\u001b[39m\u001b[38;5;132;01m%.3f\u001b[39;00m\u001b[38;5;124m'\u001b[39m] \u001b[38;5;241m*\u001b[39m \u001b[38;5;241m12\u001b[39m\n\u001b[0;32m----> 3\u001b[0m sampled_parameters \u001b[38;5;241m=\u001b[39m \u001b[43mnp\u001b[49m\u001b[38;5;241m.\u001b[39mloadtxt(\u001b[38;5;124m'\u001b[39m\u001b[38;5;124m../data/sampled_parameters.csv\u001b[39m\u001b[38;5;124m'\u001b[39m, delimiter\u001b[38;5;241m=\u001b[39m\u001b[38;5;124m'\u001b[39m\u001b[38;5;124m,\u001b[39m\u001b[38;5;124m'\u001b[39m, skiprows\u001b[38;5;241m=\u001b[39m\u001b[38;5;241m1\u001b[39m, dtype\u001b[38;5;241m=\u001b[39mdata_formats)\n",
      "\u001b[0;31mNameError\u001b[0m: name 'np' is not defined"
     ]
    }
   ],
   "source": [
    "# Import the sampled parameters\n",
    "data_formats = ['%d'] + ['%.3f'] * 12\n",
    "sampled_parameters = np.loadtxt('../data/sampled_parameters.csv', delimiter=',', skiprows=1, dtype=data_formats)"
   ]
  },
  {
   "cell_type": "code",
   "execution_count": null,
   "metadata": {},
   "outputs": [],
   "source": []
  }
 ],
 "metadata": {
  "kernelspec": {
   "display_name": "POSEIDON",
   "language": "python",
   "name": "python3"
  },
  "language_info": {
   "codemirror_mode": {
    "name": "ipython",
    "version": 3
   },
   "file_extension": ".py",
   "mimetype": "text/x-python",
   "name": "python",
   "nbconvert_exporter": "python",
   "pygments_lexer": "ipython3",
   "version": "3.10.16"
  }
 },
 "nbformat": 4,
 "nbformat_minor": 2
}
